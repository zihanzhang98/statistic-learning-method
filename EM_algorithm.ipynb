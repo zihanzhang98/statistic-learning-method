{
 "cells": [
  {
   "cell_type": "code",
   "execution_count": 1,
   "metadata": {},
   "outputs": [],
   "source": [
    "import numpy as np\n",
    "import math"
   ]
  },
  {
   "cell_type": "code",
   "execution_count": 9,
   "metadata": {},
   "outputs": [],
   "source": [
    "class EM:\n",
    "    def __init__(self, pi_init, p_init, q_init, eps=1e-6):\n",
    "        self.pi = pi_init\n",
    "        self.p = p_init\n",
    "        self.q = q_init\n",
    "        self.eps = eps\n",
    "    \n",
    "    def fit(self, samples):\n",
    "        samples = np.array(samples)\n",
    "        thetas = [np.array([self.pi, self.p, self.q])]\n",
    "        while True:\n",
    "            mu = (self.pi * np.power(self.p*np.ones_like(samples), samples) * np.power((1 - self.p)*np.ones_like(samples), 1 - samples))/(self.pi * np.power(self.p*np.ones_like(samples), samples) * np.power((1 - self.p)*np.ones_like(samples), 1 - samples) + (1 - self.pi) * np.power(self.q*np.ones_like(samples), samples) * np.power((1-self.q)*np.ones_like(samples), 1-samples))\n",
    "            self.pi = np.mean(mu)\n",
    "            self.p = np.dot(mu, samples.T)/np.sum(mu)\n",
    "            self.q = np.dot(1-mu, samples.T)/np.sum(1-mu)\n",
    "            thetas.append(np.array([self.pi, self.p, self.q]))\n",
    "            if np.sqrt(np.sum((thetas[-1] - thetas[-2]) ** 2)) < self.eps:\n",
    "                break\n",
    "        return thetas\n"
   ]
  },
  {
   "cell_type": "code",
   "execution_count": 12,
   "metadata": {},
   "outputs": [
    {
     "name": "stdout",
     "output_type": "stream",
     "text": [
      "[array([0.46, 0.55, 0.67]), array([0.46186284, 0.534595  , 0.65613464]), array([0.46186284, 0.534595  , 0.65613464])]\n"
     ]
    }
   ],
   "source": [
    "em = EM(0.46,0.55,0.67)\n",
    "samples=[1,1,0,1,0,0,1,0,1,1]\n",
    "thetas = em.fit(samples)\n",
    "print(thetas)"
   ]
  },
  {
   "cell_type": "code",
   "execution_count": null,
   "metadata": {},
   "outputs": [],
   "source": [
    "class gaussian_EM()"
   ]
  }
 ],
 "metadata": {
  "kernelspec": {
   "display_name": "Python 3",
   "language": "python",
   "name": "python3"
  },
  "language_info": {
   "codemirror_mode": {
    "name": "ipython",
    "version": 3
   },
   "file_extension": ".py",
   "mimetype": "text/x-python",
   "name": "python",
   "nbconvert_exporter": "python",
   "pygments_lexer": "ipython3",
   "version": "3.7.2"
  }
 },
 "nbformat": 4,
 "nbformat_minor": 2
}
