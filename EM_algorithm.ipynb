{
 "cells": [
  {
   "cell_type": "code",
   "execution_count": 1,
   "metadata": {},
   "outputs": [],
   "source": [
    "import numpy as np\n",
    "import math"
   ]
  },
  {
   "cell_type": "code",
   "execution_count": 9,
   "metadata": {},
   "outputs": [],
   "source": [
    "class EM:\n",
    "    def __init__(self, pi_init, p_init, q_init, eps=1e-6):\n",
    "        self.pi = pi_init\n",
    "        self.p = p_init\n",
    "        self.q = q_init\n",
    "        self.eps = eps\n",
    "    \n",
    "    def fit(self, samples):\n",
    "        samples = np.array(samples)\n",
    "        thetas = [np.array([self.pi, self.p, self.q])]\n",
    "        while True:\n",
    "            mu = (self.pi * np.power(self.p*np.ones_like(samples), samples) * np.power((1 - self.p)*np.ones_like(samples), 1 - samples))/(self.pi * np.power(self.p*np.ones_like(samples), samples) * np.power((1 - self.p)*np.ones_like(samples), 1 - samples) + (1 - self.pi) * np.power(self.q*np.ones_like(samples), samples) * np.power((1-self.q)*np.ones_like(samples), 1-samples))\n",
    "            self.pi = np.mean(mu)\n",
    "            self.p = np.dot(mu, samples.T)/np.sum(mu)\n",
    "            self.q = np.dot(1-mu, samples.T)/np.sum(1-mu)\n",
    "            thetas.append(np.array([self.pi, self.p, self.q]))\n",
    "            if np.sqrt(np.sum((thetas[-1] - thetas[-2]) ** 2)) < self.eps:\n",
    "                break\n",
    "        return thetas\n"
   ]
  },
  {
   "cell_type": "code",
   "execution_count": 13,
   "metadata": {},
   "outputs": [
    {
     "name": "stdout",
     "output_type": "stream",
     "text": [
      "[array([0.46, 0.55, 0.67]), array([0.46186284, 0.534595  , 0.65613464]), array([0.46186284, 0.534595  , 0.65613464])]\n"
     ]
    }
   ],
   "source": [
    "em = EM(0.46,0.55,0.67)\n",
    "samples=[1,1,0,1,0,0,1,0,1,1]\n",
    "thetas = em.fit(samples)\n",
    "print(thetas)"
   ]
  },
  {
   "cell_type": "code",
   "execution_count": 41,
   "metadata": {},
   "outputs": [],
   "source": [
    "def gaussian(mu, sigma, y):\n",
    "    prob = 1 / (np.sqrt(2 * math.pi) * sigma) * np.exp(-(y-mu)*(y-mu)/(2 * sigma * sigma))\n",
    "    return prob\n",
    "\n",
    "def calculate_distance(theta1, theta2):\n",
    "    sum_dis = 0\n",
    "    for i in range(len(theta1)):\n",
    "        sum_dis += np.sqrt(np.sum((theta2[i] - theta1[i])**2))\n",
    "    return sum_dis\n",
    "\n",
    "class gaussian_EM:\n",
    "    def __init__(self, alphas, mus, sigmas, eps=1e-12):\n",
    "        self.alphas = np.array(alphas)\n",
    "        self.mus = np.array(mus)\n",
    "        self.sigmas = np.array(sigmas)\n",
    "        self.eps = eps\n",
    "    \n",
    "    def fit(self, samples):\n",
    "        samples = np.array(samples)\n",
    "        thetas = [[self.alphas, self.mus, self.sigmas]]\n",
    "        gammas = np.zeros([len(samples), len(self.alphas)])\n",
    "        while True:\n",
    "            for j in range(len(samples)):\n",
    "                for k in range(len(self.alphas)):\n",
    "                    gammas[j][k] = self.alphas[k] * gaussian(self.mus[k],self.sigmas[k], samples[j])\n",
    "                gammas[j] = gammas[j] / np.sum(gammas[j])\n",
    "            mus = np.array([np.dot(samples,gammas[:,k])/np.sum(gammas[:,k]) for k in range(len(self.mus))])\n",
    "            self.sigmas = np.sqrt(np.array([np.dot((samples-self.mus[k])**2, gammas[:,k])/np.sum(gammas[:,k]) for k in range(len(self.sigmas))]))\n",
    "            self.alphas = np.array([np.sum(gammas[:,k])/len(samples) for k in range(len(self.alphas))])\n",
    "            self.mus = mus\n",
    "            thetas.append([self.alphas, self.mus, self.sigmas])\n",
    "            if calculate_distance(thetas[-1], thetas[-2]) < self.eps:\n",
    "                break\n",
    "        return thetas[-1]\n",
    "        "
   ]
  },
  {
   "cell_type": "code",
   "execution_count": 44,
   "metadata": {},
   "outputs": [
    {
     "data": {
      "text/plain": [
       "[array([0.5, 0.5]),\n",
       " array([20.93333333, 20.93333333]),\n",
       " array([36.46453376, 36.46453376])]"
      ]
     },
     "execution_count": 44,
     "metadata": {},
     "output_type": "execute_result"
    }
   ],
   "source": [
    "gem = gaussian_EM(alphas=[0.5,0.5], mus=[20,20],sigmas=[10,10])\n",
    "samples=[-67,-48,6,8,14,16,23,24,28,29,41,49,56,60,75]\n",
    "theta = gem.fit(samples)\n",
    "theta"
   ]
  },
  {
   "cell_type": "code",
   "execution_count": null,
   "metadata": {},
   "outputs": [],
   "source": []
  }
 ],
 "metadata": {
  "kernelspec": {
   "display_name": "Python 3",
   "language": "python",
   "name": "python3"
  },
  "language_info": {
   "codemirror_mode": {
    "name": "ipython",
    "version": 3
   },
   "file_extension": ".py",
   "mimetype": "text/x-python",
   "name": "python",
   "nbconvert_exporter": "python",
   "pygments_lexer": "ipython3",
   "version": "3.7.2"
  }
 },
 "nbformat": 4,
 "nbformat_minor": 2
}
